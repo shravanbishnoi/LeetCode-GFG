{
 "cells": [
  {
   "cell_type": "code",
   "execution_count": null,
   "metadata": {},
   "outputs": [
    {
     "data": {
      "text/plain": [
       "6"
      ]
     },
     "execution_count": 2,
     "metadata": {},
     "output_type": "execute_result"
    }
   ],
   "source": [
    "# 1. Write a Python program to calculate the sum of a list of numbers using recursion.\n",
    "def sumoflist(lst):\n",
    "    if len(lst)==0:\n",
    "        return 0\n",
    "    return lst[0] + sumoflist(lst[1:])\n",
    "\n",
    "lst = [1,1,1,1,1,1]\n",
    "sumoflist(lst)"
   ]
  },
  {
   "cell_type": "code",
   "execution_count": 9,
   "metadata": {},
   "outputs": [
    {
     "data": {
      "text/plain": [
       "'1231233'"
      ]
     },
     "execution_count": 9,
     "metadata": {},
     "output_type": "execute_result"
    }
   ],
   "source": [
    "# 2. Write a Python program to convert an positive integer to a string in any base using recursion .\n",
    "\n",
    "def intToStr(n):\n",
    "    if n < 10:\n",
    "        return str(n)\n",
    "    return intToStr(n//10) + str(n%10)\n",
    "\n",
    "n = 1231233\n",
    "intToStr(n)"
   ]
  },
  {
   "cell_type": "code",
   "execution_count": null,
   "metadata": {},
   "outputs": [
    {
     "data": {
      "text/plain": [
       "18"
      ]
     },
     "execution_count": 21,
     "metadata": {},
     "output_type": "execute_result"
    }
   ],
   "source": [
    "# 3. Write a Python program to sum recursion lists using recursion.\n",
    "# Test Data: [1, 2, [3,4], [5,6]]\n",
    "# Expected Result: 21\n",
    "\n",
    "def sumLists(lst):\n",
    "    if len(lst)==0:\n",
    "        return 0\n",
    "    if type(lst[0]) == list:\n",
    "        return sumLists(lst[0]) + sumLists(lst[1:])\n",
    "    return lst[0] + sumLists(lst[1:])\n",
    "\n",
    "lst = [1, 2, [4], [5,6]]\n",
    "sumLists(lst)"
   ]
  },
  {
   "cell_type": "code",
   "execution_count": 30,
   "metadata": {},
   "outputs": [
    {
     "data": {
      "text/plain": [
       "479001600"
      ]
     },
     "execution_count": 30,
     "metadata": {},
     "output_type": "execute_result"
    }
   ],
   "source": [
    "# 4. Write a Python program to get the factorial of a non-negative integer using recursion.\n",
    "def factorial(n):\n",
    "    assert n>=0, \"Enter a non-negative integer\"\n",
    "    if n == 0 or n == 1:\n",
    "        return n\n",
    "    return n * factorial(n-1)\n",
    "\n",
    "factorial(12)"
   ]
  },
  {
   "cell_type": "code",
   "execution_count": 40,
   "metadata": {},
   "outputs": [
    {
     "data": {
      "text/plain": [
       "55"
      ]
     },
     "execution_count": 40,
     "metadata": {},
     "output_type": "execute_result"
    }
   ],
   "source": [
    "# 5. Write a Python program to solve the Fibonacci sequence using recursion.\n",
    "\n",
    "def fibonacci(n):\n",
    "    if n == 0 or n == 1:\n",
    "        return n\n",
    "    return fibonacci(n-1) + fibonacci(n-2)\n",
    "fibonacci(10)"
   ]
  },
  {
   "cell_type": "code",
   "execution_count": 45,
   "metadata": {},
   "outputs": [
    {
     "data": {
      "text/plain": [
       "1"
      ]
     },
     "execution_count": 45,
     "metadata": {},
     "output_type": "execute_result"
    }
   ],
   "source": [
    "# 6. Write a Python program to get the sum of a non-negative integer using recursion.\n",
    "# Test Data:\n",
    "# sumDigits(345) -> 12\n",
    "# sumDigits(45) -> 9\n",
    "\n",
    "def sumDigits(n):\n",
    "    assert n>=0, \"number must be greater than 0\"\n",
    "    if n < 10:\n",
    "        return n\n",
    "    return sumDigits(n//10) + n%10\n",
    "\n",
    "sumDigits(10)"
   ]
  },
  {
   "cell_type": "code",
   "execution_count": 50,
   "metadata": {},
   "outputs": [
    {
     "data": {
      "text/plain": [
       "30"
      ]
     },
     "execution_count": 50,
     "metadata": {},
     "output_type": "execute_result"
    }
   ],
   "source": [
    "# 7. Write a Python program to calculate the sum of the positive integers of n+(n-2)+(n-4)... (until n-x =< 0) using recursion .\n",
    "# Test Data:\n",
    "# sum_series(6) -> 12\n",
    "# sum_series(10) -> 30\n",
    "\n",
    "def sumSteps2(n):\n",
    "    if n == 0 or n == 1:\n",
    "        return n\n",
    "    return n + sumSteps2(n-2)\n",
    "\n",
    "sumSteps2(10)"
   ]
  },
  {
   "cell_type": "code",
   "execution_count": 4,
   "metadata": {},
   "outputs": [
    {
     "data": {
      "text/plain": [
       "2.4499999999999997"
      ]
     },
     "execution_count": 4,
     "metadata": {},
     "output_type": "execute_result"
    }
   ],
   "source": [
    "# 8. Write a Python program to calculate the sum of harmonic series upto n terms.\n",
    "# Note: The harmonic sum is the sum of reciprocals of the positive integers.\n",
    "# Example :\n",
    "# harmonic series: 1 + 1/2 + 1/3 + 1/4 + ...\n",
    "\n",
    "def sumHarmonic(n):\n",
    "    if n == 1:\n",
    "        return 1\n",
    "    return sumHarmonic(n-1) + 1/n\n",
    "sumHarmonic(6)"
   ]
  },
  {
   "cell_type": "code",
   "execution_count": null,
   "metadata": {},
   "outputs": [],
   "source": []
  }
 ],
 "metadata": {
  "kernelspec": {
   "display_name": "notebook",
   "language": "python",
   "name": "python3"
  },
  "language_info": {
   "codemirror_mode": {
    "name": "ipython",
    "version": 3
   },
   "file_extension": ".py",
   "mimetype": "text/x-python",
   "name": "python",
   "nbconvert_exporter": "python",
   "pygments_lexer": "ipython3",
   "version": "3.12.3"
  }
 },
 "nbformat": 4,
 "nbformat_minor": 2
}
