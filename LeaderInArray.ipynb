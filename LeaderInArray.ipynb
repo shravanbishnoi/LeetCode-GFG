{
 "cells": [
  {
   "cell_type": "code",
   "execution_count": 1,
   "metadata": {},
   "outputs": [
    {
     "data": {
      "text/plain": [
       "'\\nProblem statement: \\nGiven an array of integers A. Find all the Leaders(An element is \\na leader if it is the greater than all the elements to its right side.\\nThe rightmost is always a leader) in the array.\\n\\nDisplay the count of leaders in an array.\\nINPUT:\\n5\\n9 0 5 6 4\\nWhere, \\n- The first line represents the size of an array.\\n- The second line represents array elements separated by single space.\\n\\nOUTPUT:\\n3\\n\\nHere for the given an array, there are 3 leaders 9, 6 and 4.\\n'"
      ]
     },
     "execution_count": 1,
     "metadata": {},
     "output_type": "execute_result"
    }
   ],
   "source": [
    "\"\"\"\n",
    "Problem statement: \n",
    "Given an array of integers A. Find all the Leaders(An element is \n",
    "a leader if it is the greater than all the elements to its right side.\n",
    "The rightmost is always a leader) in the array.\n",
    "\n",
    "Display the count of leaders in an array.\n",
    "INPUT:\n",
    "5\n",
    "9 0 5 6 4\n",
    "Where, \n",
    "- The first line represents the size of an array.\n",
    "- The second line represents array elements separated by single space.\n",
    "\n",
    "OUTPUT:\n",
    "3\n",
    "\n",
    "Here for the given an array, there are 3 leaders 9, 6 and 4.\n",
    "\"\"\""
   ]
  },
  {
   "cell_type": "code",
   "execution_count": 2,
   "metadata": {},
   "outputs": [
    {
     "name": "stdout",
     "output_type": "stream",
     "text": [
      "2"
     ]
    }
   ],
   "source": [
    "def solution(N, array):\n",
    "    count = 1\n",
    "    maxElement = array[-1]\n",
    "    for i in range(N-2, -1, -1):\n",
    "        if array[i] > maxElement:\n",
    "            count += 1\n",
    "            maxElement = array[i]   \n",
    "    return count\n",
    "\n",
    "N = int(input())\n",
    "array = list(map(int, input().split()))\n",
    "print(solution(N, array), end='')"
   ]
  },
  {
   "cell_type": "code",
   "execution_count": null,
   "metadata": {},
   "outputs": [],
   "source": []
  }
 ],
 "metadata": {
  "kernelspec": {
   "display_name": "Python 3",
   "language": "python",
   "name": "python3"
  },
  "language_info": {
   "codemirror_mode": {
    "name": "ipython",
    "version": 3
   },
   "file_extension": ".py",
   "mimetype": "text/x-python",
   "name": "python",
   "nbconvert_exporter": "python",
   "pygments_lexer": "ipython3",
   "version": "3.10.8"
  }
 },
 "nbformat": 4,
 "nbformat_minor": 2
}
